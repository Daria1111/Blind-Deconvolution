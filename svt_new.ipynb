{
 "cells": [
  {
   "cell_type": "code",
   "execution_count": 351,
   "metadata": {},
   "outputs": [],
   "source": [
    "import numpy as np\n",
    "import matplotlib.pyplot as plt\n",
    "%matplotlib inline\n",
    "import scipy.linalg as scl\n",
    "from random import sample as sample"
   ]
  },
  {
   "cell_type": "code",
   "execution_count": 339,
   "metadata": {},
   "outputs": [
    {
     "data": {
      "text/plain": [
       "<matplotlib.image.AxesImage at 0x1e4026976d8>"
      ]
     },
     "execution_count": 339,
     "metadata": {},
     "output_type": "execute_result"
    },
    {
     "data": {
      "image/png": "[encoded data removed]",
      "text/plain": [
       "<Figure size 432x288 with 1 Axes>"
      ]
     },
     "metadata": {
      "needs_background": "light"
     },
     "output_type": "display_data"
    }
   ],
   "source": [
    "pic = np.zeros((10,10))\n",
    "pic[3:8,3:8] = 1\n",
    "\n",
    "pic[0:3,5:] = 0.5\n",
    "pic[8:,5:] = 0.5\n",
    "plt.imshow(pic,'gray')"
   ]
  },
  {
   "cell_type": "code",
   "execution_count": 380,
   "metadata": {},
   "outputs": [],
   "source": [
    "pic = np.array([[0,1,0,1,0,0.7,0,0.7],\n",
    "               [1,0,1,0,0.7,0,0.7,0],\n",
    "               [0,1,0,1,0,0.7,0,0.7],\n",
    "               [1,0,1,0,0.7,0,0.7,0],\n",
    "               [0,1,0,1,0,0.7,0,0.7],\n",
    "               [1,0,1,0,0.7,0,0.7,0],\n",
    "               [0,1,0,1,0,0.7,0,0.7],\n",
    "               [1,0,1,0,0.7,0,0.7,0]])"
   ]
  },
  {
   "cell_type": "code",
   "execution_count": 381,
   "metadata": {},
   "outputs": [
    {
     "data": {
      "image/png": "[encoded data removed]",
      "text/plain": [
       "<Figure size 432x288 with 1 Axes>"
      ]
     },
     "metadata": {
      "needs_background": "light"
     },
     "output_type": "display_data"
    }
   ],
   "source": [
    "plt.imshow(pic,'gray')\n",
    "plt.savefig('orig.jpg')"
   ]
  },
  {
   "cell_type": "code",
   "execution_count": 382,
   "metadata": {},
   "outputs": [],
   "source": [
    "m =  pic.reshape((64,1))"
   ]
  },
  {
   "cell_type": "code",
   "execution_count": 383,
   "metadata": {},
   "outputs": [],
   "source": [
    "k = 64\n",
    "L = 64\n",
    "N = 64"
   ]
  },
  {
   "cell_type": "code",
   "execution_count": 384,
   "metadata": {},
   "outputs": [],
   "source": [
    "C = np.random.randn(L,k)"
   ]
  },
  {
   "cell_type": "code",
   "execution_count": 385,
   "metadata": {},
   "outputs": [],
   "source": [
    "h = np.random.randn(N,1)\n",
    "B = np.random.randn(L,N)\n",
    "w = np.matmul(B,h)"
   ]
  },
  {
   "cell_type": "code",
   "execution_count": 386,
   "metadata": {},
   "outputs": [],
   "source": [
    "X = np.matmul(m,h.reshape((1,k)))"
   ]
  },
  {
   "cell_type": "code",
   "execution_count": 405,
   "metadata": {},
   "outputs": [],
   "source": [
    "def blurred(C, B):\n",
    "    \n",
    "    res = np.matmul(scl.circulant(C[:,0]), B)\n",
    "    \n",
    "    y = m[0]*res  @ h\n",
    "    \n",
    "    for col in range(1,L):\n",
    "        matr = np.matmul(scl.circulant(C[:,col]), B)\n",
    "        y += m[col] *matr  @ h\n",
    "    return y"
   ]
  },
  {
   "cell_type": "code",
   "execution_count": 406,
   "metadata": {},
   "outputs": [],
   "source": [
    "y_obs = blurred(C,B)"
   ]
  },
  {
   "cell_type": "code",
   "execution_count": 407,
   "metadata": {},
   "outputs": [
    {
     "data": {
      "image/png": "[encoded data removed]",
      "text/plain": [
       "<Figure size 432x288 with 1 Axes>"
      ]
     },
     "metadata": {
      "needs_background": "light"
     },
     "output_type": "display_data"
    }
   ],
   "source": [
    "plt.imshow(y_obs.reshape((8,8)),'gray')\n",
    "plt.savefig('b.jpg')"
   ]
  },
  {
   "cell_type": "code",
   "execution_count": 408,
   "metadata": {},
   "outputs": [],
   "source": [
    "tau = 500\n",
    "delta = 0.02\n",
    "l = 1\n",
    "eps = 0.01\n",
    "\n",
    "k_max = 400"
   ]
  },
  {
   "cell_type": "code",
   "execution_count": 409,
   "metadata": {},
   "outputs": [
    {
     "name": "stdout",
     "output_type": "stream",
     "text": [
      "0\n",
      "1\n",
      "2\n",
      "3\n",
      "4\n",
      "5\n",
      "6\n",
      "7\n",
      "8\n",
      "9\n",
      "10\n",
      "11\n",
      "12\n",
      "13\n",
      "14\n",
      "15\n",
      "16\n",
      "17\n",
      "18\n",
      "19\n",
      "20\n",
      "21\n",
      "22\n",
      "23\n",
      "24\n",
      "25\n",
      "26\n",
      "27\n",
      "28\n",
      "29\n",
      "30\n",
      "31\n",
      "32\n",
      "33\n",
      "34\n",
      "35\n",
      "36\n",
      "37\n",
      "38\n",
      "39\n",
      "40\n",
      "41\n",
      "42\n",
      "43\n",
      "44\n",
      "45\n",
      "46\n",
      "47\n",
      "48\n",
      "49\n",
      "50\n",
      "51\n",
      "52\n",
      "53\n",
      "54\n",
      "55\n",
      "56\n",
      "57\n",
      "58\n",
      "59\n",
      "60\n",
      "61\n",
      "62\n",
      "63\n",
      "0.5027816634859621\n"
     ]
    }
   ],
   "source": [
    "ans = np.zeros(64)\n",
    "norms = np.zeros(64)\n",
    "for row in range(L):\n",
    "    print(row)\n",
    "    if np.linalg.norm(X[row]) == 0:\n",
    "        ans[row] = 0\n",
    "    else:\n",
    "        \n",
    "        A  = np.matmul(scl.circulant(C[:,row]), B)\n",
    "        #A  = np.matmul(np.diag(C[:,1]), B)\n",
    "        #A = B\n",
    "        #A =  A * mask\n",
    "        #vec = X[col]\n",
    "\n",
    "        y = np.matmul(A, X[row])\n",
    "        #y = A @ X[1]\n",
    "        #print(vec)\n",
    "        A_z = np.linalg.inv(A)\n",
    "        #A_z = A.T\n",
    "\n",
    "        k0 = tau / np.linalg.norm(A_z @ y)\n",
    "        Y  = k0 * delta * A_z @ y\n",
    "        Y = Y.reshape((64,1))\n",
    "        r = 0\n",
    "\n",
    "        for j in range(k_max):\n",
    "        #    print(j)\n",
    "            s = r + l\n",
    "            ind = 0\n",
    "            while True:\n",
    "                u, sigma, vh = np.linalg.svd(Y)\n",
    "               # print(u.shape, vh.shape, Y.shape)\n",
    "                u = u[:,:s]\n",
    "                #print(u)\n",
    "                sigma = sigma[:s]\n",
    "    #print(sigma)\n",
    "                vh = vh[:s]\n",
    "                s += l\n",
    "                ind += 1\n",
    "\n",
    "                if ((sigma[-1] <= tau) or (ind > 10)):\n",
    "                    break\n",
    "\n",
    "\n",
    "            if ind > 10:\n",
    "                break\n",
    "            r = np.argmax(sigma)\n",
    "            Xk = (sigma[0] - tau) * np.matmul(u[:,0].reshape((64,1)), vh[0,:])#.reshape((1,100)))\n",
    "\n",
    "            for i in range(1,s-l):\n",
    "                #print(i, s)\n",
    "                #print(u.shape)\n",
    "                #u[:,i]\n",
    "                Xk += (sigma[i] - tau) * np.matmul(u[:,i].reshape((64,1)), vh[i,:])#.reshape((1,100)))\n",
    "          #  Xk = Xk.reshape((100,1))\n",
    "            if np.linalg.norm(A@(Xk-X[row])) / np.linalg.norm(A @ X[row]) <= eps:\n",
    "            #if np.max((Xk - X)) <= eps:\n",
    "                break\n",
    "        #    print(np.linalg.norm(A @ (Xk-X[row])) / np.linalg.norm(A @ X[row]))\n",
    "\n",
    "           # Y += delta * (np.matmul(B,vec.reshape((100,1))-Xk.reshape((100,1))) )\n",
    "            Y += delta * A_z @ A @ ((X[row]-Xk).reshape((64,1)))\n",
    "            #print(a[0].shape)\n",
    "            \n",
    "        ml = Xk.reshape((64,1)) / h\n",
    "        \n",
    "        ans[row] = ml[0]\n",
    "        #print(np.linalg.norm(A@(Xk-X[row])) / np.linalg.norm(A @ X[row]))\n",
    "        norms[row] = np.linalg.norm(A@(Xk-X[row])) / np.linalg.norm(A @ X[row])\n",
    "        #print(j)\n",
    "print(np.mean(norms))"
   ]
  },
  {
   "cell_type": "code",
   "execution_count": 410,
   "metadata": {},
   "outputs": [
    {
     "data": {
      "text/plain": [
       "<matplotlib.image.AxesImage at 0x1e4029374a8>"
      ]
     },
     "execution_count": 410,
     "metadata": {},
     "output_type": "execute_result"
    },
    {
     "data": {
      "image/png": "[encoded data removed]",
      "text/plain": [
       "<Figure size 432x288 with 1 Axes>"
      ]
     },
     "metadata": {
      "needs_background": "light"
     },
     "output_type": "display_data"
    }
   ],
   "source": [
    "plt.imshow(-ans.reshape((8,8)), 'gray')\n",
    "#plt.savefig('reconts.jpg')"
   ]
  },
  {
   "cell_type": "code",
   "execution_count": null,
   "metadata": {},
   "outputs": [],
   "source": []
  }
 ],
 "metadata": {
  "kernelspec": {
   "display_name": "Python 3",
   "language": "python",
   "name": "python3"
  },
  "language_info": {
   "codemirror_mode": {
    "name": "ipython",
    "version": 3
   },
   "file_extension": ".py",
   "mimetype": "text/x-python",
   "name": "python",
   "nbconvert_exporter": "python",
   "pygments_lexer": "ipython3",
   "version": "3.7.3"
  }
 },
 "nbformat": 4,
 "nbformat_minor": 2
}
